{
 "cells": [
  {
   "cell_type": "code",
   "execution_count": 1,
   "id": "afec9be3-fb0c-489c-8d3f-21d747e5d276",
   "metadata": {},
   "outputs": [],
   "source": [
    "import redis"
   ]
  },
  {
   "cell_type": "code",
   "execution_count": 5,
   "id": "643374ce-1fc5-4bec-b507-66ebaddf3523",
   "metadata": {},
   "outputs": [],
   "source": [
    "r = redis.Redis(host='review_redis_1')"
   ]
  },
  {
   "cell_type": "code",
   "execution_count": 6,
   "id": "fd0e6fd5-f55d-4fd6-95dd-847ff5d6f078",
   "metadata": {},
   "outputs": [
    {
     "data": {
      "text/plain": [
       "True"
      ]
     },
     "execution_count": 6,
     "metadata": {},
     "output_type": "execute_result"
    }
   ],
   "source": [
    "r.set('temperature', 18.5)"
   ]
  },
  {
   "cell_type": "code",
   "execution_count": 7,
   "id": "1ae65737-c14b-4c71-8a48-f7cce2d27f19",
   "metadata": {},
   "outputs": [
    {
     "name": "stdout",
     "output_type": "stream",
     "text": [
      "b'18.5'\n"
     ]
    }
   ],
   "source": [
    "print(r.get('temperature'))"
   ]
  }
 ],
 "metadata": {
  "kernelspec": {
   "display_name": "Python 3 (ipykernel)",
   "language": "python",
   "name": "python3"
  },
  "language_info": {
   "codemirror_mode": {
    "name": "ipython",
    "version": 3
   },
   "file_extension": ".py",
   "mimetype": "text/x-python",
   "name": "python",
   "nbconvert_exporter": "python",
   "pygments_lexer": "ipython3",
   "version": "3.10.4"
  }
 },
 "nbformat": 4,
 "nbformat_minor": 5
}
